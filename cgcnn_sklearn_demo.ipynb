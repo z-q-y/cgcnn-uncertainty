{
 "cells": [
  {
   "cell_type": "code",
   "execution_count": 1,
   "metadata": {},
   "outputs": [],
   "source": [
    "import mongo\n",
    "from pymatgen.io.ase import AseAtomsAdaptor\n",
    "import pickle\n",
    "\n",
    "#dataset of docs taken from jupyter-dev using:\n",
    "#     from gaspy import gasdb, defaults\n",
    "#     import warnings\n",
    "#     warnings.filterwarnings('ignore')\n",
    "\n",
    "#     filters = defaults.adsorption_filters('CO')\n",
    "#     #filters['results.energy'] = {'$gt': -3.5, '$lt': 9.0}\n",
    "#     #filters['processed_data.movement_data.max_adsorbate_movement']['$lt'] = 4.0 #specifically for OOH vs OH\n",
    "\n",
    "#     # Establish the fingerprints that are needed for the preprocessing\n",
    "#     fingerprints = {}\n",
    "#     fingerprints['atoms']='$atoms'\n",
    "#     fingerprints['results']='$results'\n",
    "#     fingerprints['max_surface_movement']='$processed_data.movement_data.max_surface_movement'\n",
    "#     fingerprints['adsorption_site'] = '$initial_configuration.atoms.atoms'\n",
    "#     # Pull the documents and then modify them so that they'll work with the preprocessor\n",
    "#     docs = gasdb.get_adsorption_docs(['CO'],extra_fingerprints=fingerprints, filters=filters)\n",
    "\n",
    "CO_docs = pickle.load(open('/home/zulissi/CO_docs.pkl','rb'))\n",
    "CO_docs = CO_docs[:200]"
   ]
  },
  {
   "cell_type": "markdown",
   "metadata": {},
   "source": [
    "Transform block to turn a GASpy doc into the necessary structure for CGCNN"
   ]
  },
  {
   "cell_type": "code",
   "execution_count": 2,
   "metadata": {
    "scrolled": true
   },
   "outputs": [],
   "source": [
    "from cgcnn.data import StructureData\n",
    "import torch\n",
    "import numpy as np\n",
    "\n",
    "from sklearn.base import TransformerMixin\n",
    "\n",
    "class StructureDataTransformer(TransformerMixin):\n",
    "    def __init__(self, *args, **kwargs):\n",
    "        self.args = args\n",
    "        self.kwargs = kwargs\n",
    "        return\n",
    "    \n",
    "    def transform(self,X):\n",
    "        target_list = [doc['energy'] for doc in CO_docs]\n",
    "        structure_list = [AseAtomsAdaptor.get_structure(mongo.make_atoms_from_doc(doc)) for doc in X]\n",
    "        return StructureData(structure_list, target_list, *self.args, **self.kwargs)\n",
    "\n",
    "    def fit(self,*_):\n",
    "        return self"
   ]
  },
  {
   "cell_type": "markdown",
   "metadata": {},
   "source": [
    "CGCNN model with skorch to make it sklearn compliant"
   ]
  },
  {
   "cell_type": "code",
   "execution_count": 3,
   "metadata": {},
   "outputs": [],
   "source": [
    "from cgcnn.model import CrystalGraphConvNet\n",
    "from torch import nn\n",
    "from skorch import NeuralNetRegressor\n",
    "from torch.utils.data import Dataset, DataLoader\n",
    "from cgcnn.data import collate_pool\n",
    "\n",
    "#This is a little weird, one of the parameters basically needs to match the results \n",
    "# that are coming from the transform function, should be fixable \n",
    "SDT = StructureDataTransformer(atom_init_loc='/home/zulissi/software/cgcnn_sklearn/atom_init.json')\n",
    "structures, _ = SDT.transform(CO_docs)[0]\n",
    "orig_atom_fea_len = structures[0].shape[-1]\n",
    "nbr_fea_len = structures[1].shape[-1]\n",
    "\n",
    "net = NeuralNetRegressor(\n",
    "    CrystalGraphConvNet,\n",
    "    module__orig_atom_fea_len = orig_atom_fea_len,\n",
    "    module__nbr_fea_len = nbr_fea_len,\n",
    "    iterator_train__num_workers=4,\n",
    "    iterator_train__pin_memory=True,\n",
    "    iterator_train__collate_fn = collate_pool,\n",
    "    iterator_valid__pin_memory=True,\n",
    "    iterator_valid__collate_fn = collate_pool,\n",
    "    max_epochs=10,\n",
    "    lr=0.1,\n",
    "    device='cuda'\n",
    ")"
   ]
  },
  {
   "cell_type": "code",
   "execution_count": null,
   "metadata": {
    "scrolled": false
   },
   "outputs": [
    {
     "name": "stdout",
     "output_type": "stream",
     "text": [
      "  epoch    train_loss    valid_loss      dur\n",
      "-------  ------------  ------------  -------\n",
      "      1      \u001b[36m441.5199\u001b[0m     \u001b[32m1242.7625\u001b[0m  40.3099\n",
      "      2       \u001b[36m69.0057\u001b[0m       \u001b[32m14.5083\u001b[0m  29.6966\n",
      "      3       \u001b[36m10.7678\u001b[0m        \u001b[32m6.5655\u001b[0m  29.8524\n"
     ]
    }
   ],
   "source": [
    "from sklearn.pipeline import make_pipeline\n",
    "pipe = make_pipeline(SDT, net)\n",
    "\n",
    "#y, energies\n",
    "target_list = [doc['energy'] for doc in CO_docs]\n",
    "y = torch.Tensor(np.array(target_list).reshape((len(target_list),1)))\n",
    "\n",
    "#This is hacky, I'm not sure if y is actually necessary, I think it's just buried\n",
    "# in the CO_docs, but need to check\n",
    "pipe.fit(CO_docs,y=y)"
   ]
  },
  {
   "cell_type": "code",
   "execution_count": null,
   "metadata": {},
   "outputs": [],
   "source": []
  }
 ],
 "metadata": {
  "kernelspec": {
   "display_name": "Python 3",
   "language": "python",
   "name": "python3"
  },
  "language_info": {
   "codemirror_mode": {
    "name": "ipython",
    "version": 3
   },
   "file_extension": ".py",
   "mimetype": "text/x-python",
   "name": "python",
   "nbconvert_exporter": "python",
   "pygments_lexer": "ipython3",
   "version": "3.6.5"
  }
 },
 "nbformat": 4,
 "nbformat_minor": 2
}
