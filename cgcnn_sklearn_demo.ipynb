{
 "cells": [
  {
   "cell_type": "code",
   "execution_count": 1,
   "metadata": {},
   "outputs": [],
   "source": [
    "import mongo\n",
    "from pymatgen.io.ase import AseAtomsAdaptor\n",
    "import pickle\n",
    "\n",
    "CO_docs = pickle.load(open('/home/zulissi/CO_docs.pkl','rb'))\n",
    "CO_docs = CO_docs[:200]\n",
    "\n",
    "#Could be implemented as a transform if needed\n",
    "structure_list = [AseAtomsAdaptor.get_structure(mongo.make_atoms_from_doc(doc)) for doc in CO_docs]\n",
    "target_list = [doc['energy'] for doc in CO_docs]\n"
   ]
  },
  {
   "cell_type": "code",
   "execution_count": 2,
   "metadata": {
    "scrolled": true
   },
   "outputs": [],
   "source": [
    "from cgcnn.data import StructureData\n",
    "import torch\n",
    "import numpy as np\n",
    "\n",
    "#X\n",
    "dataset = StructureData(structure_list, target_list, '/home/zulissi/software/cgcnn_sklearn/atom_init.json')\n",
    "#y, energies\n",
    "y = torch.Tensor(np.array(target_list).reshape((len(target_list),1)))\n"
   ]
  },
  {
   "cell_type": "code",
   "execution_count": 3,
   "metadata": {},
   "outputs": [],
   "source": [
    "from cgcnn.model import CrystalGraphConvNet\n",
    "from sklearn.datasets import make_classification\n",
    "from torch import nn\n",
    "import torch.nn.functional as F\n",
    "\n",
    "from skorch import NeuralNetRegressor\n",
    "\n",
    "structures, _ = dataset[0]\n",
    "orig_atom_fea_len = structures[0].shape[-1]\n",
    "nbr_fea_len = structures[1].shape[-1]\n",
    "\n",
    "from torch.utils.data import Dataset, DataLoader\n",
    "from cgcnn.data import collate_pool\n",
    "\n",
    "net = NeuralNetRegressor(\n",
    "    CrystalGraphConvNet,\n",
    "    iterator_train = DataLoader,\n",
    "    iterator_valid = DataLoader,\n",
    "    module__orig_atom_fea_len = orig_atom_fea_len,\n",
    "    module__nbr_fea_len = nbr_fea_len,\n",
    "    iterator_train__num_workers=4,\n",
    "    iterator_train__pin_memory=True,\n",
    "    iterator_train__collate_fn = collate_pool,\n",
    "    iterator_valid__pin_memory=True,\n",
    "    iterator_valid__collate_fn = collate_pool,\n",
    "    max_epochs=10,\n",
    "    lr=0.1,\n",
    "    device='cuda'\n",
    ")"
   ]
  },
  {
   "cell_type": "code",
   "execution_count": 4,
   "metadata": {
    "scrolled": false
   },
   "outputs": [
    {
     "name": "stdout",
     "output_type": "stream",
     "text": [
      "  epoch    train_loss    valid_loss      dur\n",
      "-------  ------------  ------------  -------\n",
      "      1      \u001b[36m907.7483\u001b[0m     \u001b[32m2404.1331\u001b[0m  39.8048\n",
      "      2       \u001b[36m75.2742\u001b[0m       \u001b[32m34.2038\u001b[0m  29.4979\n",
      "      3       \u001b[36m26.0986\u001b[0m       \u001b[32m14.8460\u001b[0m  29.6444\n",
      "      4       \u001b[36m11.0126\u001b[0m        \u001b[32m6.7142\u001b[0m  29.6744\n",
      "      5        \u001b[36m4.8284\u001b[0m        \u001b[32m3.2526\u001b[0m  29.7986\n",
      "      6        \u001b[36m2.2908\u001b[0m        \u001b[32m1.7503\u001b[0m  29.8559\n",
      "      7        \u001b[36m1.2483\u001b[0m        \u001b[32m1.0807\u001b[0m  29.6812\n",
      "      8        \u001b[36m0.8192\u001b[0m        \u001b[32m0.7716\u001b[0m  29.6743\n",
      "      9        \u001b[36m0.6420\u001b[0m        \u001b[32m0.6227\u001b[0m  29.8668\n",
      "     10        \u001b[36m0.5686\u001b[0m        \u001b[32m0.5475\u001b[0m  29.6978\n"
     ]
    },
    {
     "data": {
      "text/plain": [
       "<class 'skorch.regressor.NeuralNetRegressor'>[initialized](\n",
       "  module_=CrystalGraphConvNet(\n",
       "    (embedding): Linear(in_features=92, out_features=64, bias=True)\n",
       "    (convs): ModuleList(\n",
       "      (0): ConvLayer(\n",
       "        (fc_full): Linear(in_features=169, out_features=128, bias=True)\n",
       "        (sigmoid): Sigmoid()\n",
       "        (softplus1): Softplus(beta=1, threshold=20)\n",
       "        (bn1): BatchNorm1d(128, eps=1e-05, momentum=0.1, affine=True, track_running_stats=True)\n",
       "        (bn2): BatchNorm1d(64, eps=1e-05, momentum=0.1, affine=True, track_running_stats=True)\n",
       "        (softplus2): Softplus(beta=1, threshold=20)\n",
       "      )\n",
       "      (1): ConvLayer(\n",
       "        (fc_full): Linear(in_features=169, out_features=128, bias=True)\n",
       "        (sigmoid): Sigmoid()\n",
       "        (softplus1): Softplus(beta=1, threshold=20)\n",
       "        (bn1): BatchNorm1d(128, eps=1e-05, momentum=0.1, affine=True, track_running_stats=True)\n",
       "        (bn2): BatchNorm1d(64, eps=1e-05, momentum=0.1, affine=True, track_running_stats=True)\n",
       "        (softplus2): Softplus(beta=1, threshold=20)\n",
       "      )\n",
       "      (2): ConvLayer(\n",
       "        (fc_full): Linear(in_features=169, out_features=128, bias=True)\n",
       "        (sigmoid): Sigmoid()\n",
       "        (softplus1): Softplus(beta=1, threshold=20)\n",
       "        (bn1): BatchNorm1d(128, eps=1e-05, momentum=0.1, affine=True, track_running_stats=True)\n",
       "        (bn2): BatchNorm1d(64, eps=1e-05, momentum=0.1, affine=True, track_running_stats=True)\n",
       "        (softplus2): Softplus(beta=1, threshold=20)\n",
       "      )\n",
       "    )\n",
       "    (conv_to_fc): Linear(in_features=64, out_features=128, bias=True)\n",
       "    (conv_to_fc_softplus): Softplus(beta=1, threshold=20)\n",
       "    (fc_out): Linear(in_features=128, out_features=1, bias=True)\n",
       "  ),\n",
       ")"
      ]
     },
     "execution_count": 4,
     "metadata": {},
     "output_type": "execute_result"
    }
   ],
   "source": [
    "net.fit(dataset,y=y)"
   ]
  }
 ],
 "metadata": {
  "kernelspec": {
   "display_name": "Python 3",
   "language": "python",
   "name": "python3"
  },
  "language_info": {
   "codemirror_mode": {
    "name": "ipython",
    "version": 3
   },
   "file_extension": ".py",
   "mimetype": "text/x-python",
   "name": "python",
   "nbconvert_exporter": "python",
   "pygments_lexer": "ipython3",
   "version": "3.6.5"
  }
 },
 "nbformat": 4,
 "nbformat_minor": 2
}
