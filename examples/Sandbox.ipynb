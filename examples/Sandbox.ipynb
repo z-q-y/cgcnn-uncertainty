{
 "cells": [
  {
   "cell_type": "code",
   "execution_count": 1,
   "metadata": {},
   "outputs": [
    {
     "name": "stdout",
     "output_type": "stream",
     "text": [
      "env: CUDA_DEVICE_ORDER=PCI_BUS_ID\n",
      "env: CUDA_VISIBLE_DEVICES=0\n"
     ]
    }
   ],
   "source": [
    "import os\n",
    "import sys\n",
    "sys.path.insert(0,'../')\n",
    "sys.path.insert(0,'/home/zulissi/software/adamwr')\n",
    "import numpy as np\n",
    "# import cgcnn\n",
    "#Select which GPU to use if necessary\n",
    "%env CUDA_DEVICE_ORDER=PCI_BUS_ID\n",
    "%env CUDA_VISIBLE_DEVICES=0"
   ]
  },
  {
   "cell_type": "code",
   "execution_count": 3,
   "metadata": {},
   "outputs": [],
   "source": [
    "import pickle\n",
    "import random\n",
    "\n",
    "#Load a selection of documents\n",
    "docs = pickle.load(open('/pylon5/ch5fq5p/zulissi/CO_docs.pkl','rb'))\n",
    "random.seed(42)\n",
    "random.shuffle(docs)\n",
    "docs = [doc for doc in docs if -3<doc['energy']<1.0]\n",
    "doc = docs[5]"
   ]
  },
  {
   "cell_type": "markdown",
   "metadata": {},
   "source": [
    "### Implementing the Right Train-Validation Split"
   ]
  },
  {
   "cell_type": "code",
   "execution_count": 5,
   "metadata": {},
   "outputs": [
    {
     "name": "stdout",
     "output_type": "stream",
     "text": [
      "-0.4718952000000112\n"
     ]
    }
   ],
   "source": [
    "import pandas as pd\n",
    "import numpy as np\n",
    "from sklearn.model_selection import KFold\n",
    "\n",
    "samplesize, folds = 42, 6\n",
    "samplelist = list(range(samplesize))\n",
    "splitter = KFold(folds, shuffle=False)\n",
    "\n",
    "arr = np.array(zip(samplelist, list(range(100, 100 + samplesize))))\n",
    "out_training = [[] for _ in range(folds)]\n",
    "out_validation = []\n",
    "batchsize = samplesize // folds\n",
    "\n",
    "for i, (train_indices, valid_indices) in enumerate(splitter.split(samplelist)):\n",
    "    print(\"train_indices:\", train_indices)\n",
    "    print(\"valid_indices:\", valid_indices)\n",
    "    \n",
    "    subdiv = [j for j in range(folds) if i != j]\n",
    "    \n",
    "    for k, j in enumerate(subdiv):\n",
    "        out_training[j].append(train_indices[(k*batchsize):((k+1)*batchsize)])\n",
    "    \n",
    "    out_validation.extend(valid_indices)\n",
    "\n",
    "out_training = np.array(out_training)\n",
    "out_training = np.transpose(out_training, (1, 0, 2))\n",
    "out_training = np.reshape(out_training, (folds-1, samplesize))\n",
    "print(out_validation)\n"
   ]
  },
  {
   "cell_type": "code",
   "execution_count": null,
   "metadata": {},
   "outputs": [],
   "source": []
  }
 ],
 "metadata": {
  "kernelspec": {
   "display_name": "cgcnn_conda",
   "language": "python",
   "name": "cgcnn"
  },
  "language_info": {
   "codemirror_mode": {
    "name": "ipython",
    "version": 3
   },
   "file_extension": ".py",
   "mimetype": "text/x-python",
   "name": "python",
   "nbconvert_exporter": "python",
   "pygments_lexer": "ipython3",
   "version": "3.6.8"
  }
 },
 "nbformat": 4,
 "nbformat_minor": 2
}
