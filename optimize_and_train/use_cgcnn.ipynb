{
 "cells": [
  {
   "cell_type": "markdown",
   "metadata": {},
   "source": [
    "# Use cgcnn\n",
    "Here describe the process of how i use cgcnn. "
   ]
  },
  {
   "cell_type": "markdown",
   "metadata": {},
   "source": [
    "## Launch jupyter notebook"
   ]
  },
  {
   "cell_type": "raw",
   "metadata": {},
   "source": [
    "(Open first linux window)\n",
    "1. ssh wzhong1@ulissigroup-gpu.cheme.cmu.edu\n",
    "2. source activate /home/zulissi/miniconda3/envs/cgcnn\n",
    "3. jupyter notebook\n",
    "\n",
    "(Open a second linux window)\n",
    "4. ssh -L localhost:8888:localhost:8888 ulissigroup-gpu.cheme.cmu.edu\n",
    "\n",
    "(Get access to MongoDatabase from cori)\n",
    "5. ssh -L localhost:27017:mongodb01.nersc.gov:27017 cori.nersc.gov"
   ]
  },
  {
   "cell_type": "markdown",
   "metadata": {},
   "source": [
    "## Use CGCNN on Terminal \n",
    "When we used cgcnn yesterday, directly using 'python main.py root_dir' did not work because we did not specify train_size, val_size, test_size. We can use following command as github showed instead <br>\n",
    "**Inside cgcnn folder:<br>\n",
    "Regression**<br>\n",
    "python main.py --train-size 6 --val-size 2 --test-size 2 data/sample-regression <br>\n",
    "**Classification** <br>\n",
    "python main.py --task classification --train-size 5 --val-size 2 --test-size 3 data/sample-classification"
   ]
  },
  {
   "cell_type": "markdown",
   "metadata": {},
   "source": [
    "## Use CGCNN on jupyter notebook\n",
    "Usually, I would do a training using cgcnn with the following steps\n",
    "### 1. Generate a root_dir for .cif files, id_prop.csv and atoms_init.json\n",
    "1. access_mongo.ipynb: example for accessing mongodb is in \n",
    "2. generate_database.ipynb: generate root_dir\n",
    "3. cp atoms_init.json to root_dir"
   ]
  },
  {
   "cell_type": "markdown",
   "metadata": {},
   "source": [
    "### 2. Optimized all hyperparameters used for cnn\n",
    "\n",
    "**Difference between main.py, predict.py and modify_main.py and modify_predict.py** <br>\n",
    "Original main.py contains a set of default parameters for CNN. However, starting with their default parameters may not give optimum values (mae for test set). Instead, Zach suggested to use SigOpt to tune the model's parameters and improve its performance. <br>\n",
    "\n",
    "'args' contains the parameters and their values. In main.py, 'args' is made from parser.add_arguments. In modify_main.py, 'args' is made by passing contents from 'assignments' in SigOpt experiments. predict.py and modify_predict.py has similar changes. <br>\n",
    "\n",
    "ps: There are some parameters in 'args' that were not included in the assignment. Those was used for pytorch, and we took default values suggested by pytorch functions. "
   ]
  },
  {
   "cell_type": "markdown",
   "metadata": {},
   "source": [
    "**SIGOPT**\n",
    "1. https://sigopt.com/\n",
    "2. Personal user has limited to 10 experiment/month. But if we asked to be added in Zach's research group, this limit can be removed. "
   ]
  },
  {
   "cell_type": "markdown",
   "metadata": {},
   "source": [
    "### 3. train and predict data"
   ]
  },
  {
   "cell_type": "markdown",
   "metadata": {},
   "source": [
    "### 4. parity plot shows train/test results"
   ]
  },
  {
   "cell_type": "code",
   "execution_count": null,
   "metadata": {},
   "outputs": [],
   "source": []
  }
 ],
 "metadata": {
  "kernelspec": {
   "display_name": "Python 3",
   "language": "python",
   "name": "python3"
  },
  "language_info": {
   "codemirror_mode": {
    "name": "ipython",
    "version": 3
   },
   "file_extension": ".py",
   "mimetype": "text/x-python",
   "name": "python",
   "nbconvert_exporter": "python",
   "pygments_lexer": "ipython3",
   "version": "3.6.5"
  }
 },
 "nbformat": 4,
 "nbformat_minor": 2
}
