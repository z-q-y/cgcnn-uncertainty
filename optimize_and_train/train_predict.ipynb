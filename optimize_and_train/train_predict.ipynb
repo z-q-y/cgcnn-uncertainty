{
 "cells": [
  {
   "cell_type": "markdown",
   "metadata": {},
   "source": [
    "# Train/predict using CGCNN with CGCNN"
   ]
  },
  {
   "cell_type": "code",
   "execution_count": null,
   "metadata": {},
   "outputs": [],
   "source": [
    "%env CUDA_VISIBLE_DEVICES=1"
   ]
  },
  {
   "cell_type": "code",
   "execution_count": null,
   "metadata": {},
   "outputs": [],
   "source": [
    "import sys\n",
    "sys.path.insert(0, '/home/nianhant/script')\n",
    "\n",
    "import pdb\n",
    "import os\n",
    "import csv\n",
    "import shutil\n",
    "import random\n",
    "import numpy as np\n",
    "import pandas as pd\n",
    "import matplotlib.pyplot as plt\n",
    "from sklearn.metrics import mean_absolute_error, mean_squared_error\n",
    "from sklearn import linear_model as lm\n",
    "from sigopt import Connection\n",
    "conn = Connection(client_token=\"ZSKVODQFWHLZOWZASSFHZIGLIZRXCPIJMQTRVZITZRNPHVYO\")\n",
    "\n",
    "from modify_data import CIFData\n",
    "import run_cgcnn as rc\n",
    "import analyze_cgcnn as ac\n",
    "\n",
    "import pprint"
   ]
  },
  {
   "cell_type": "markdown",
   "metadata": {},
   "source": [
    "## Manage inputs: optimized experiment, root_dir, train/valid/test size"
   ]
  },
  {
   "cell_type": "code",
   "execution_count": null,
   "metadata": {},
   "outputs": [],
   "source": [
    "# optimized experiment\n",
    "sigopt_exp_id = 50929\n",
    "experiments = conn.experiments(id=sigopt_exp_id).fetch()\n",
    "assignments = conn.experiments(id=sigopt_exp_id).best_assignments().fetch().data[0].assignments\n",
    "print(assignments)\n",
    "\n",
    "# database directory\n",
    "main_dir = '/home/demo/'\n",
    "root_dir = os.path.join(main_dir, 'root_dir')\n",
    "assert(os.path.isdir(root_dir))    # double check root_dir exists!\n",
    "\n",
    "# use ratio for size or mannually defined instead\n",
    "files = [f for f in os.listdir(root_dir) if f.endswith('.cif')]\n",
    "data_size = len(files)\n",
    "train_size, val_size = round(data_size*0.6), round(data_size*0.2)\n",
    "test_size = data_size - train_size - val_size\n",
    "print(data_size, train_size, val_size, test_size)"
   ]
  },
  {
   "cell_type": "markdown",
   "metadata": {},
   "source": [
    "## train, predict\n",
    "CGCNN only gives output for test set. What I do is use model_best.pth.tar on whole dataset again and find train/valid set output"
   ]
  },
  {
   "cell_type": "code",
   "execution_count": null,
   "metadata": {},
   "outputs": [],
   "source": [
    "move_cgcnn_files = ac.move_cgcnn_files\n",
    "save_convergence = ac.save_convergence\n",
    "\n",
    "# load data\n",
    "print('----Loading data to dataset----')\n",
    "dataset = CIFData(root_dir)\n",
    "\n",
    "# train model, notice dataset or datalist used in function\n",
    "print('----Train model----')\n",
    "run_model = rc.run_model\n",
    "epochs, train_mae_errors, train_losses, val_mae_errors, val_losses, test_mae, test_loss = \\\n",
    "    run_model(assignments, root_dir, dataset, train_size, val_size, test_size, evaluate=False)\n",
    "# save convergence results\n",
    "# save training data to convergence.csv\n",
    "save_convergence(epochs, train_mae_errors, train_losses, val_mae_errors, val_losses)\n",
    "\n",
    "# predict model\n",
    "print('----Predict model----')\n",
    "predict_model = rc.predict_model\n",
    "predict_model(modelpath='model_best_train_%d.pth.tar'%train_size, cifpath=root_dir)    "
   ]
  },
  {
   "cell_type": "code",
   "execution_count": null,
   "metadata": {},
   "outputs": [],
   "source": [
    "# move files to desired folder\n",
    "import os\n",
    "print('----Move files----')\n",
    "source = '/home/demo/'\n",
    "dst = 'train_predict_result/20181022/'\n",
    "destination = os.path.join(source, dst)\n",
    "files = ['checkpoint_train_%d.pth.tar'%train_size, \n",
    "         'model_best_train_%d.pth.tar'%train_size, \n",
    "         'test_results_train_%d.csv'%train_size, \n",
    "         'test_results_predict.csv',\n",
    "         'convergence_mae_loss.csv']\n",
    "move_cgcnn_files(files, source, destination)"
   ]
  }
 ],
 "metadata": {
  "kernelspec": {
   "display_name": "Python 3",
   "language": "python",
   "name": "python3"
  },
  "language_info": {
   "codemirror_mode": {
    "name": "ipython",
    "version": 3
   },
   "file_extension": ".py",
   "mimetype": "text/x-python",
   "name": "python",
   "nbconvert_exporter": "python",
   "pygments_lexer": "ipython3",
   "version": "3.6.5"
  }
 },
 "nbformat": 4,
 "nbformat_minor": 2
}
