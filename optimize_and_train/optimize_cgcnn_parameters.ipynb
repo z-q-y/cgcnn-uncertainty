{
 "cells": [
  {
   "cell_type": "code",
   "execution_count": null,
   "metadata": {},
   "outputs": [],
   "source": [
    "import os\n",
    "import shutil\n",
    "import csv\n",
    "import argparse\n",
    "import pickle\n",
    "import numpy as np\n",
    "import pandas as pd\n",
    "import random\n",
    "import pprint\n",
    "# connect to sigopt api, below is my account token\n",
    "from sigopt import Connection\n",
    "conn = Connection(client_token=\"YOUR_CLIENT_TOKEN\")\n",
    "\n",
    "# I have removed randomization in modify_data for some need\n",
    "from modify_data import CIFData\n",
    "import run_cgcnn as rc"
   ]
  },
  {
   "cell_type": "markdown",
   "metadata": {},
   "source": [
    "## create an experiment or retrieve an experiment"
   ]
  },
  {
   "cell_type": "code",
   "execution_count": null,
   "metadata": {},
   "outputs": [],
   "source": [
    "experiment = conn.experiments().create(\n",
    "    name='foo', #fill in experiment name \n",
    "    parameters=[\n",
    "        dict(name='epochs',type='int',bounds=dict(min=50,max=500)),\n",
    "        dict(name=\"log_learning_rate\",bounds=dict(min=-18.4207, max=-1),type=\"double\"),\n",
    "        dict(name='n_conv', type='int', bounds=dict(min=1, max=6)),\n",
    "        dict(name='n_h', type='int', bounds=dict(min=1, max=3)),\n",
    "        dict(name='h_fea_len', type='int', bounds=dict(min=32, max=256)),\n",
    "        dict(name='atom_fea_len', type='int', bounds=dict(min=4, max=256)),\n",
    "        dict(name='batch_size',type='int',bounds=dict(min=32, max=512)),\n",
    "        dict(name=\"optimizer\",categorical_values=[dict(name=\"Adam\"),dict(name=\"sgd\")],type=\"categorical\"),\n",
    "        dict(name='neighbors',type='int',bounds=dict(min=6, max=12)),\n",
    "        dict(name='bondstep',type='categorical',categorical_values=[{'name':'0.05'},{'name':'0.1'},{'name':'0.2'}])\n",
    "    ],\n",
    "    observation_budget = 100\n",
    ")\n",
    "print(\"Create experiment:\" + experiment.id)"
   ]
  },
  {
   "cell_type": "code",
   "execution_count": null,
   "metadata": {},
   "outputs": [],
   "source": [
    "# retrieve the experiment\n",
    "experiment = conn.experiments(id=).fetch() "
   ]
  },
  {
   "cell_type": "markdown",
   "metadata": {},
   "source": [
    "## defind train/valid/test size as 6:2:2"
   ]
  },
  {
   "cell_type": "code",
   "execution_count": null,
   "metadata": {},
   "outputs": [],
   "source": [
    "root_dir = '/root_dir/' \n",
    "\n",
    "files = os.listdir(root_dir)\n",
    "data_size = len([f for f in files if f.endswith('.cif')])\n",
    "train_size, val_size = round(data_size * 0.6),  round(data_size*0.2)\n",
    "test_size = data_size - train_size - val_size\n",
    "print(data_size, train_size, val_size, test_size)"
   ]
  },
  {
   "cell_type": "code",
   "execution_count": null,
   "metadata": {},
   "outputs": [],
   "source": [
    "# load data\n",
    "dataset = CIFData(root_dir) \n",
    "\n",
    "# define train model funtion\n",
    "run_model = rc.run_model\n",
    "\n",
    "# start optimizing\n",
    "if conn.experiments(experiment.id).suggestions().fetch().data != []:\n",
    "    print('not first experiment')\n",
    "    suggestion = conn.experiments(experiment.id).suggestions().fetch().data[0]\n",
    "    assignments = suggestion.assignments \n",
    "    print(assignments)\n",
    "    value = run_model(assignments, root_dir, dataset, train_size, val_size, test_size, evaluate=True)\n",
    "    conn.experiments(experiment.id).observations().create(\n",
    "        suggestion=suggestion.id,\n",
    "        value=value)\n",
    "else:\n",
    "    print('first experiment')\n",
    "print(experiment.observation_budget)\n",
    "\n",
    " \n",
    "for i in range(experiment.observation_budget):\n",
    "    suggestion = conn.experiments(experiment.id).suggestions().create()\n",
    "    assignments = suggestion.assignments\n",
    "    print('========================================')\n",
    "    print('iteration %d: suggestion assignments'%i)\n",
    "    print(assignments)\n",
    "    \n",
    "    value = run_model(assignments, root_dir, dataset, train_size, val_size, test_size, evaluate=True)\n",
    "    conn.experiments(experiment.id).observations().create(\n",
    "        suggestion=suggestion.id,\n",
    "        value=value)"
   ]
  }
 ],
 "metadata": {
  "kernelspec": {
   "display_name": "Python 3",
   "language": "python",
   "name": "python3"
  },
  "language_info": {
   "codemirror_mode": {
    "name": "ipython",
    "version": 3
   },
   "file_extension": ".py",
   "mimetype": "text/x-python",
   "name": "python",
   "nbconvert_exporter": "python",
   "pygments_lexer": "ipython3",
   "version": "3.6.5"
  }
 },
 "nbformat": 4,
 "nbformat_minor": 2
}
